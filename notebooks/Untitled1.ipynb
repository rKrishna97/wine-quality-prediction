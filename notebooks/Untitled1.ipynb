{
 "cells": [
  {
   "cell_type": "code",
   "execution_count": 8,
   "id": "painful-softball",
   "metadata": {},
   "outputs": [],
   "source": [
    "\n",
    "import os "
   ]
  },
  {
   "cell_type": "code",
   "execution_count": 9,
   "id": "commercial-oakland",
   "metadata": {},
   "outputs": [
    {
     "data": {
      "text/plain": [
       "'/home/krishna/Desktop/Data Science/GitHub/wine-quality'"
      ]
     },
     "execution_count": 9,
     "metadata": {},
     "output_type": "execute_result"
    }
   ],
   "source": [
    "pwd"
   ]
  },
  {
   "cell_type": "code",
   "execution_count": 10,
   "id": "professional-consumption",
   "metadata": {},
   "outputs": [],
   "source": [
    "os.chdir(\"/home/krishna/Desktop/Data Science/GitHub/wine-quality/\")"
   ]
  },
  {
   "cell_type": "code",
   "execution_count": 11,
   "id": "recovered-certification",
   "metadata": {},
   "outputs": [
    {
     "name": "stdout",
     "output_type": "stream",
     "text": [
      "{   'creation_timestamp': 1616580642844,\n",
      "    'current_stage': 'None',\n",
      "    'description': '',\n",
      "    'last_updated_timestamp': 1616580642844,\n",
      "    'name': 'ElasticNetWineModel',\n",
      "    'run_id': 'b3ba1e3f3d0746d9a6f4b38f410a98fa',\n",
      "    'run_link': '',\n",
      "    'source': './artifacts/1/b3ba1e3f3d0746d9a6f4b38f410a98fa/artifacts/model',\n",
      "    'status': 'READY',\n",
      "    'status_message': '',\n",
      "    'tags': {},\n",
      "    'user_id': '',\n",
      "    'version': '1'}\n",
      "{   'creation_timestamp': 1616581337874,\n",
      "    'current_stage': 'None',\n",
      "    'description': '',\n",
      "    'last_updated_timestamp': 1616581337874,\n",
      "    'name': 'ElasticNetWineModel',\n",
      "    'run_id': 'f448ddac4e5c414984ab11f6339284dc',\n",
      "    'run_link': '',\n",
      "    'source': './artifacts/2/f448ddac4e5c414984ab11f6339284dc/artifacts/model',\n",
      "    'status': 'READY',\n",
      "    'status_message': '',\n",
      "    'tags': {},\n",
      "    'user_id': '',\n",
      "    'version': '2'}\n",
      "{   'creation_timestamp': 1616581428632,\n",
      "    'current_stage': 'None',\n",
      "    'description': '',\n",
      "    'last_updated_timestamp': 1616581428632,\n",
      "    'name': 'ElasticNetWineModel',\n",
      "    'run_id': '14df5f3a905346cfb203887d86504c57',\n",
      "    'run_link': '',\n",
      "    'source': './artifacts/2/14df5f3a905346cfb203887d86504c57/artifacts/model',\n",
      "    'status': 'READY',\n",
      "    'status_message': '',\n",
      "    'tags': {},\n",
      "    'user_id': '',\n",
      "    'version': '3'}\n",
      "{   'creation_timestamp': 1616581458373,\n",
      "    'current_stage': 'Production',\n",
      "    'description': '',\n",
      "    'last_updated_timestamp': 1616581668321,\n",
      "    'name': 'ElasticNetWineModel',\n",
      "    'run_id': '915ac0f1b36d452ab0a21cb34c30c57c',\n",
      "    'run_link': '',\n",
      "    'source': './artifacts/2/915ac0f1b36d452ab0a21cb34c30c57c/artifacts/model',\n",
      "    'status': 'READY',\n",
      "    'status_message': '',\n",
      "    'tags': {},\n",
      "    'user_id': '',\n",
      "    'version': '4'}\n"
     ]
    }
   ],
   "source": [
    "from src.get_data import read_params\n",
    "import argparse\n",
    "import mlflow\n",
    "from mlflow.tracking import MlflowClient\n",
    "from pprint import pprint\n",
    "import joblib\n",
    "\n",
    "def log_production_model(config_path):\n",
    "    config = read_params(config_path)\n",
    "\n",
    "\n",
    "    mlflow_config = config[\"mlflow_config\"]\n",
    "    model_name = mlflow_config[\"registered_model_name\"]\n",
    "    remote_server_uri  = mlflow_config[\"remote_server_uri\"]\n",
    "    mlflow.set_tracking_uri(remote_server_uri)\n",
    "\n",
    "    runs = mlflow.search_runs(experiment_ids=1)\n",
    "    lowest = runs[\"metrics.mae\"].sort_values(ascending=True)[0]\n",
    "    lowest_run_id = runs[runs[\"metrics.mae\"] == lowest][\"run_id\"][0]\n",
    "\n",
    "    client = MlflowClient()\n",
    "    for mv in client.search_model_versions(f\"name='{model_name}'\"):\n",
    "        mv = dict(mv)\n",
    "\n",
    "        if mv[\"run_id\"] == lowest_run_id:\n",
    "            current_version = mv[\"version\"]\n",
    "            logged_model = mv[\"source\"]\n",
    "            pprint(mv, indent=4)\n",
    "            client.transition_model_version_stage(\n",
    "                name=model_name,\n",
    "                version=current_version,\n",
    "                stage=\"Production\"\n",
    "            )\n",
    "        else:\n",
    "            current_version = mv[\"version\"]\n",
    "            logged_model = mv[\"source\"]\n",
    "            pprint(mv, indent=4)\n",
    "            client.transition_model_version_stage(\n",
    "                name=model_name,\n",
    "                version=current_version,\n",
    "                stage=\"Staging\"\n",
    "            )\n",
    "            \n",
    "log_production_model(\"params.yaml\")"
   ]
  },
  {
   "cell_type": "code",
   "execution_count": null,
   "id": "religious-lexington",
   "metadata": {},
   "outputs": [],
   "source": []
  }
 ],
 "metadata": {
  "kernelspec": {
   "display_name": "Python 3",
   "language": "python",
   "name": "python3"
  },
  "language_info": {
   "codemirror_mode": {
    "name": "ipython",
    "version": 3
   },
   "file_extension": ".py",
   "mimetype": "text/x-python",
   "name": "python",
   "nbconvert_exporter": "python",
   "pygments_lexer": "ipython3",
   "version": "3.7.0"
  }
 },
 "nbformat": 4,
 "nbformat_minor": 5
}
